{
 "cells": [
  {
   "cell_type": "markdown",
   "id": "ee6d6295",
   "metadata": {},
   "source": [
    "## DANNY'S DINER SQL CHALLENGE\n",
    "This is a sql project created by [Danny Ma](\"https://www.linkedin.com/in/datawithdanny/\") to help individuals emerging into the data scene. From my view, it helps establish the foundational knowledge of sql while testing and developing logical problem skills.\n",
    "I have chosen to do it in Python because it highlights how you can create a database on your system to allow for continuous use.\n",
    "\n",
    "To get access to this and other of Danny's projects - [8 Week SQL Challenge](\"https://8weeksqlchallenge.com/\").\n",
    "\n",
    "Before getting started, I would also recommend installing \"ipython-sql\". This allows you use the 'jupyter magic' function to interact with your relational database."
   ]
  },
  {
   "cell_type": "markdown",
   "id": "79f0a495",
   "metadata": {},
   "source": [
    "### Importing Libraries"
   ]
  },
  {
   "cell_type": "code",
   "execution_count": 1,
   "id": "26ee09d1",
   "metadata": {},
   "outputs": [],
   "source": [
    "import sqlite3 as sql\n",
    "import pandas as pd\n",
    "import warnings\n",
    "warnings.filterwarnings(\"ignore\")"
   ]
  },
  {
   "cell_type": "markdown",
   "id": "e479e078",
   "metadata": {},
   "source": [
    "### Creating Database, Table & Inserting Values into Table"
   ]
  },
  {
   "cell_type": "code",
   "execution_count": 2,
   "id": "4d998388",
   "metadata": {},
   "outputs": [],
   "source": [
    "conn = sql.connect('dannys_diner.db')\n",
    "c = conn.cursor()\n",
    "\n",
    "def create_table():\n",
    "    c.execute('CREATE TABLE IF NOT EXISTS sales (customer_id TEXT,order_date TEXT,product_id INT)')\n",
    "    c.execute('CREATE TABLE IF NOT EXISTS menu (product_id INT,product_name TEXT,price REAL)')\n",
    "    c.execute('CREATE TABLE IF NOT EXISTS members (customer_id TEXT,join_date TEXT)')\n",
    "              \n",
    "def data_entry():\n",
    "    c.execute(\"INSERT INTO sales VALUES ('A', '2021-01-01', 1)\")\n",
    "    c.execute(\"INSERT INTO sales VALUES ('A', '2021-01-01', 2)\")\n",
    "    c.execute(\"INSERT INTO sales VALUES ('A', '2021-01-07', 2)\")\n",
    "    c.execute(\"INSERT INTO sales VALUES ('A', '2021-01-10', 3)\")\n",
    "    c.execute(\"INSERT INTO sales VALUES ('A', '2021-01-11', 3)\")\n",
    "    c.execute(\"INSERT INTO sales VALUES ('A', '2021-01-11', 3)\")\n",
    "    c.execute(\"INSERT INTO sales VALUES ('B', '2021-01-01', 2)\")\n",
    "    c.execute(\"INSERT INTO sales VALUES ('B', '2021-01-02', 2)\")\n",
    "    c.execute(\"INSERT INTO sales VALUES ('B', '2021-01-04', 1)\")\n",
    "    c.execute(\"INSERT INTO sales VALUES ('B', '2021-01-11', 1)\")\n",
    "    c.execute(\"INSERT INTO sales VALUES ('B', '2021-01-16', 3)\")\n",
    "    c.execute(\"INSERT INTO sales VALUES ('B', '2021-02-01', 3)\")\n",
    "    c.execute(\"INSERT INTO sales VALUES ('C', '2021-01-01', 3)\")\n",
    "    c.execute(\"INSERT INTO sales VALUES ('C', '2021-01-01', 3)\")\n",
    "    c.execute(\"INSERT INTO sales VALUES ('C', '2021-01-07', 3)\")\n",
    "    \n",
    "    c.execute(\"INSERT INTO menu VALUES (1, 'sushi', 10)\")\n",
    "    c.execute(\"INSERT INTO menu VALUES (2, 'curry', 15)\")\n",
    "    c.execute(\"INSERT INTO menu VALUES (3, 'ramen', 12)\")\n",
    "              \n",
    "    c.execute(\"INSERT INTO members VALUES ('A', '2021-01-07')\")\n",
    "    c.execute(\"INSERT INTO members VALUES ('B', '2021-01-09')\")\n",
    "    \n",
    "    conn.commit()\n",
    "    conn.close()\n",
    "    \n",
    "create_table()\n",
    "data_entry()"
   ]
  },
  {
   "cell_type": "code",
   "execution_count": 3,
   "id": "def97457",
   "metadata": {},
   "outputs": [],
   "source": [
    "%%capture\n",
    "%load_ext sql\n",
    "%sql sqlite:///dannys_diner.db"
   ]
  },
  {
   "cell_type": "code",
   "execution_count": 4,
   "id": "62917ef3",
   "metadata": {},
   "outputs": [
    {
     "name": "stdout",
     "output_type": "stream",
     "text": [
      " * sqlite:///dannys_diner.db\n",
      "Done.\n"
     ]
    },
    {
     "data": {
      "text/html": [
       "<table>\n",
       "    <tr>\n",
       "        <th>customer_id</th>\n",
       "        <th>order_date</th>\n",
       "        <th>product_id</th>\n",
       "    </tr>\n",
       "    <tr>\n",
       "        <td>A</td>\n",
       "        <td>2021-01-01</td>\n",
       "        <td>1</td>\n",
       "    </tr>\n",
       "    <tr>\n",
       "        <td>A</td>\n",
       "        <td>2021-01-01</td>\n",
       "        <td>2</td>\n",
       "    </tr>\n",
       "    <tr>\n",
       "        <td>A</td>\n",
       "        <td>2021-01-07</td>\n",
       "        <td>2</td>\n",
       "    </tr>\n",
       "    <tr>\n",
       "        <td>A</td>\n",
       "        <td>2021-01-10</td>\n",
       "        <td>3</td>\n",
       "    </tr>\n",
       "    <tr>\n",
       "        <td>A</td>\n",
       "        <td>2021-01-11</td>\n",
       "        <td>3</td>\n",
       "    </tr>\n",
       "    <tr>\n",
       "        <td>A</td>\n",
       "        <td>2021-01-11</td>\n",
       "        <td>3</td>\n",
       "    </tr>\n",
       "    <tr>\n",
       "        <td>B</td>\n",
       "        <td>2021-01-01</td>\n",
       "        <td>2</td>\n",
       "    </tr>\n",
       "    <tr>\n",
       "        <td>B</td>\n",
       "        <td>2021-01-02</td>\n",
       "        <td>2</td>\n",
       "    </tr>\n",
       "    <tr>\n",
       "        <td>B</td>\n",
       "        <td>2021-01-04</td>\n",
       "        <td>1</td>\n",
       "    </tr>\n",
       "    <tr>\n",
       "        <td>B</td>\n",
       "        <td>2021-01-11</td>\n",
       "        <td>1</td>\n",
       "    </tr>\n",
       "    <tr>\n",
       "        <td>B</td>\n",
       "        <td>2021-01-16</td>\n",
       "        <td>3</td>\n",
       "    </tr>\n",
       "    <tr>\n",
       "        <td>B</td>\n",
       "        <td>2021-02-01</td>\n",
       "        <td>3</td>\n",
       "    </tr>\n",
       "    <tr>\n",
       "        <td>C</td>\n",
       "        <td>2021-01-01</td>\n",
       "        <td>3</td>\n",
       "    </tr>\n",
       "    <tr>\n",
       "        <td>C</td>\n",
       "        <td>2021-01-01</td>\n",
       "        <td>3</td>\n",
       "    </tr>\n",
       "    <tr>\n",
       "        <td>C</td>\n",
       "        <td>2021-01-07</td>\n",
       "        <td>3</td>\n",
       "    </tr>\n",
       "</table>"
      ],
      "text/plain": [
       "[('A', '2021-01-01', 1),\n",
       " ('A', '2021-01-01', 2),\n",
       " ('A', '2021-01-07', 2),\n",
       " ('A', '2021-01-10', 3),\n",
       " ('A', '2021-01-11', 3),\n",
       " ('A', '2021-01-11', 3),\n",
       " ('B', '2021-01-01', 2),\n",
       " ('B', '2021-01-02', 2),\n",
       " ('B', '2021-01-04', 1),\n",
       " ('B', '2021-01-11', 1),\n",
       " ('B', '2021-01-16', 3),\n",
       " ('B', '2021-02-01', 3),\n",
       " ('C', '2021-01-01', 3),\n",
       " ('C', '2021-01-01', 3),\n",
       " ('C', '2021-01-07', 3)]"
      ]
     },
     "execution_count": 4,
     "metadata": {},
     "output_type": "execute_result"
    }
   ],
   "source": [
    "%%sql\n",
    "SELECT \n",
    "* \n",
    "FROM sales;"
   ]
  },
  {
   "cell_type": "code",
   "execution_count": 5,
   "id": "8ad35fb3",
   "metadata": {},
   "outputs": [
    {
     "name": "stdout",
     "output_type": "stream",
     "text": [
      " * sqlite:///dannys_diner.db\n",
      "Done.\n"
     ]
    },
    {
     "data": {
      "text/html": [
       "<table>\n",
       "    <tr>\n",
       "        <th>product_id</th>\n",
       "        <th>product_name</th>\n",
       "        <th>price</th>\n",
       "    </tr>\n",
       "    <tr>\n",
       "        <td>1</td>\n",
       "        <td>sushi</td>\n",
       "        <td>10.0</td>\n",
       "    </tr>\n",
       "    <tr>\n",
       "        <td>2</td>\n",
       "        <td>curry</td>\n",
       "        <td>15.0</td>\n",
       "    </tr>\n",
       "    <tr>\n",
       "        <td>3</td>\n",
       "        <td>ramen</td>\n",
       "        <td>12.0</td>\n",
       "    </tr>\n",
       "</table>"
      ],
      "text/plain": [
       "[(1, 'sushi', 10.0), (2, 'curry', 15.0), (3, 'ramen', 12.0)]"
      ]
     },
     "execution_count": 5,
     "metadata": {},
     "output_type": "execute_result"
    }
   ],
   "source": [
    "%%sql\n",
    "SELECT \n",
    "* \n",
    "FROM menu;"
   ]
  },
  {
   "cell_type": "code",
   "execution_count": 6,
   "id": "ac130af6",
   "metadata": {},
   "outputs": [
    {
     "name": "stdout",
     "output_type": "stream",
     "text": [
      " * sqlite:///dannys_diner.db\n",
      "Done.\n"
     ]
    },
    {
     "data": {
      "text/html": [
       "<table>\n",
       "    <tr>\n",
       "        <th>customer_id</th>\n",
       "        <th>join_date</th>\n",
       "    </tr>\n",
       "    <tr>\n",
       "        <td>A</td>\n",
       "        <td>2021-01-07</td>\n",
       "    </tr>\n",
       "    <tr>\n",
       "        <td>B</td>\n",
       "        <td>2021-01-09</td>\n",
       "    </tr>\n",
       "</table>"
      ],
      "text/plain": [
       "[('A', '2021-01-07'), ('B', '2021-01-09')]"
      ]
     },
     "execution_count": 6,
     "metadata": {},
     "output_type": "execute_result"
    }
   ],
   "source": [
    "%%sql\n",
    "SELECT \n",
    "* \n",
    "FROM members;"
   ]
  },
  {
   "cell_type": "markdown",
   "id": "e1cdd1a7",
   "metadata": {},
   "source": [
    "### Case Study Questions"
   ]
  },
  {
   "cell_type": "markdown",
   "id": "7a9bc427",
   "metadata": {},
   "source": [
    "#### Question 1 - What is the total amount each customer spent at the restaurant?"
   ]
  },
  {
   "cell_type": "markdown",
   "id": "a83c216d",
   "metadata": {},
   "source": [
    "#### Question 2 - How many days has each customer visited the restaurant?"
   ]
  },
  {
   "cell_type": "markdown",
   "id": "562fbf54",
   "metadata": {},
   "source": [
    "#### Question 3 - What was the first item from the menu purchased by each customer?"
   ]
  },
  {
   "cell_type": "markdown",
   "id": "454aada3",
   "metadata": {},
   "source": [
    "#### Question 4 - What is the most purchased item on the menu and how many times was it purchased by all customers?"
   ]
  },
  {
   "cell_type": "markdown",
   "id": "d2d05636",
   "metadata": {},
   "source": [
    "#### Question 5 - Which item was the most popular for each customer?"
   ]
  },
  {
   "cell_type": "markdown",
   "id": "4e9e6094",
   "metadata": {},
   "source": [
    "#### Question 6 - Which item was purchased first by the customer after they became a member?"
   ]
  },
  {
   "cell_type": "markdown",
   "id": "171a7da4",
   "metadata": {},
   "source": [
    "#### Question 7 - Which item was purchased just before the customer became a member?"
   ]
  },
  {
   "cell_type": "markdown",
   "id": "51e7b13f",
   "metadata": {},
   "source": [
    "#### Question 8 - What is the total items and amount spent for each member before they became a member?"
   ]
  },
  {
   "cell_type": "markdown",
   "id": "2f2c8acf",
   "metadata": {},
   "source": [
    "#### Question 9 - If each $1 spent equates to 10 points and sushi has a 2x points multiplier - how many points would each customer have?"
   ]
  },
  {
   "cell_type": "markdown",
   "id": "0d7ba0ad",
   "metadata": {},
   "source": [
    "#### Question 10 - In the first week after a customer joins the program (including their join date) they earn 2x points on all items, not just sushi - how many points do customer A and B have at the end of January?"
   ]
  },
  {
   "cell_type": "markdown",
   "id": "858e64be",
   "metadata": {},
   "source": [
    "#### Bonus Question - Join All Things"
   ]
  },
  {
   "cell_type": "markdown",
   "id": "740dbe43",
   "metadata": {},
   "source": [
    "##### Create table holding all essential data to avoid joining tables"
   ]
  }
 ],
 "metadata": {
  "kernelspec": {
   "display_name": "Python 3 (ipykernel)",
   "language": "python",
   "name": "python3"
  },
  "language_info": {
   "codemirror_mode": {
    "name": "ipython",
    "version": 3
   },
   "file_extension": ".py",
   "mimetype": "text/x-python",
   "name": "python",
   "nbconvert_exporter": "python",
   "pygments_lexer": "ipython3",
   "version": "3.9.7"
  }
 },
 "nbformat": 4,
 "nbformat_minor": 5
}
